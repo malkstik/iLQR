{
 "cells": [
  {
   "cell_type": "code",
   "execution_count": 12,
   "metadata": {},
   "outputs": [
    {
     "name": "stdout",
     "output_type": "stream",
     "text": [
      "\n",
      "[[0, 0, 0], \n",
      " [0, 0, 0], \n",
      " [0, -1.11022e-16, 0]]\n"
     ]
    }
   ],
   "source": [
    "import maths.casadi_quaternions as caq\n",
    "from maths.quaternions import SampleQuaternion as SampleQ\n",
    "from scipy.spatial.transform import Rotation as R\n",
    "\n",
    "\n",
    "q = SampleQ()\n",
    "qw, qx, qy, qz = q\n",
    "\n",
    "r = R.from_quat([qx, qy, qz, qw])\n",
    "\n",
    "rot = r.as_matrix()\n",
    "ca_rot = caq.QuaternionToRotation(q)\n",
    "\n",
    "print(rot - ca_rot)\n",
    "\n"
   ]
  }
 ],
 "metadata": {
  "kernelspec": {
   "display_name": "Python 3",
   "language": "python",
   "name": "python3"
  },
  "language_info": {
   "codemirror_mode": {
    "name": "ipython",
    "version": 3
   },
   "file_extension": ".py",
   "mimetype": "text/x-python",
   "name": "python",
   "nbconvert_exporter": "python",
   "pygments_lexer": "ipython3",
   "version": "3.10.12"
  },
  "orig_nbformat": 4
 },
 "nbformat": 4,
 "nbformat_minor": 2
}
